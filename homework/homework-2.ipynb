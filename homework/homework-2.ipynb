{
 "cells": [
  {
   "cell_type": "code",
   "execution_count": 1,
   "metadata": {},
   "outputs": [],
   "source": [
    "import matplotlib.pyplot as plt\n",
    "import numpy as np\n",
    "\n",
    "from ipywidgets import interact\n",
    "from sklearn.datasets import make_moons\n",
    "from sklearn.ensemble import RandomForestClassifier\n",
    "from sklearn.model_selection import train_test_split\n",
    "from sklearn import tree\n",
    "\n",
    "%matplotlib inline"
   ]
  },
  {
   "cell_type": "code",
   "execution_count": 2,
   "metadata": {},
   "outputs": [],
   "source": [
    "def plot_boundary(classifier, X, y):\n",
    "    x0 = X[:, 0]\n",
    "    x1 = X[:, 1]\n",
    "    xx, yy = np.meshgrid(np.arange(x0.min() - 1, x0.max() + 1, 0.1), np.arange(x1.min() - 1, x1.max() + 1, 0.1))\n",
    "\n",
    "    f, ax = plt.subplots(figsize=(10, 8))\n",
    "    Z = classifier.predict(np.c_[xx.ravel(), yy.ravel()]).reshape(xx.shape)\n",
    "\n",
    "    ax.contourf(xx, yy, Z, alpha=0.4)\n",
    "    ax.scatter(x0, x1, c=y, s=20, edgecolor='k')\n",
    "\n",
    "    plt.show()"
   ]
  },
  {
   "cell_type": "code",
   "execution_count": 3,
   "metadata": {},
   "outputs": [
    {
     "data": {
      "application/vnd.jupyter.widget-view+json": {
       "model_id": "0d8791ea3ad0470a8e560aa9a766cc90",
       "version_major": 2,
       "version_minor": 0
      },
      "text/plain": [
       "interactive(children=(FloatSlider(value=0.0, description='noise', max=1.0), IntSlider(value=25, description='n…"
      ]
     },
     "metadata": {},
     "output_type": "display_data"
    }
   ],
   "source": [
    "@interact(noise=(0, 1, 0.1), num_trees=(1, 50), max_depth=(1, 50))\n",
    "def interact_function(noise, num_trees, max_depth):\n",
    "    x, y = make_moons(500, noise=noise, random_state=123)\n",
    "    x_train, x_test, y_train, y_test = train_test_split(x, y, random_state=2345)\n",
    "    classifier = RandomForestClassifier(n_estimators = num_trees, max_depth = max_depth, random_state = 42)\n",
    "    classifier = classifier.fit(x_train, y_train)\n",
    "    plot_boundary(classifier, x_train, y_train)\n",
    "\n",
    "    train = (classifier.predict(x_train) == y_train).sum() / y_train.shape[0]\n",
    "    test = (classifier.predict(x_test) == y_test).sum() / y_test.shape[0]\n",
    "    print(\"train: \", train, \"\\ttest: \", test)"
   ]
  },
  {
   "cell_type": "code",
   "execution_count": null,
   "metadata": {},
   "outputs": [],
   "source": []
  }
 ],
 "metadata": {
  "kernelspec": {
   "display_name": "Python 3",
   "language": "python",
   "name": "python3"
  },
  "language_info": {
   "codemirror_mode": {
    "name": "ipython",
    "version": 3
   },
   "file_extension": ".py",
   "mimetype": "text/x-python",
   "name": "python",
   "nbconvert_exporter": "python",
   "pygments_lexer": "ipython3",
   "version": "3.7.1"
  }
 },
 "nbformat": 4,
 "nbformat_minor": 2
}
