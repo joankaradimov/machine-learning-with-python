{
 "cells": [
  {
   "cell_type": "code",
   "execution_count": 1,
   "metadata": {},
   "outputs": [],
   "source": [
    "import sys\n",
    "\n",
    "import sklearn\n",
    "import pandas as pd\n",
    "import matplotlib as mpl\n",
    "import matplotlib.pyplot as plt\n",
    "import seaborn as sns\n",
    "\n",
    "%matplotlib inline"
   ]
  },
  {
   "cell_type": "code",
   "execution_count": 2,
   "metadata": {},
   "outputs": [],
   "source": [
    "train = pd.read_csv('house-prices/train.csv', index_col=['Id'])\n",
    "test = pd.read_csv('house-prices/test.csv', index_col=['Id'])"
   ]
  },
  {
   "cell_type": "markdown",
   "metadata": {},
   "source": [
    "## Започваме с най-добрия вече съществуващ модел"
   ]
  },
  {
   "cell_type": "code",
   "execution_count": 3,
   "metadata": {},
   "outputs": [],
   "source": [
    "train.LotFrontage = train.LotFrontage.fillna(0)\n",
    "train.GarageYrBlt = train.GarageYrBlt.fillna(0)\n",
    "train.MasVnrArea = train.MasVnrArea.fillna(0)\n",
    "train.SalePrice = pd.np.log10(train.SalePrice)\n",
    "\n",
    "train_no_sale_price = train.drop(labels=['SalePrice'], axis=1)\n",
    "train_sale_price = train['SalePrice']"
   ]
  },
  {
   "cell_type": "code",
   "execution_count": 4,
   "metadata": {},
   "outputs": [
    {
     "name": "stderr",
     "output_type": "stream",
     "text": [
      "c:\\python37\\lib\\site-packages\\sklearn\\preprocessing\\_encoders.py:368: FutureWarning: The handling of integer data will change in version 0.22. Currently, the categories are determined based on the range [0, max(values)], while in the future they will be determined based on the unique values.\n",
      "If you want the future behaviour and silence this warning, you can specify \"categories='auto'\".\n",
      "In case you used a LabelEncoder before this OneHotEncoder to convert the categories to integers, then you can now use the OneHotEncoder directly.\n",
      "  warnings.warn(msg, FutureWarning)\n"
     ]
    }
   ],
   "source": [
    "from sklearn.preprocessing import LabelEncoder, OneHotEncoder\n",
    "\n",
    "numeric_column_names = train_no_sale_price.describe().columns\n",
    "categorical_columns = train_no_sale_price.dtypes[train.dtypes == 'object'].index\n",
    "\n",
    "categorical_data = train_no_sale_price[categorical_columns]\n",
    "train_encoded = pd.DataFrame({\n",
    "    c: LabelEncoder().fit(train.fillna('')[c]).transform(categorical_data[c].fillna(\"\")) for c in categorical_columns\n",
    "}, index = train_no_sale_price)\n",
    "one_hot = OneHotEncoder().fit(train_encoded).transform(train_encoded)\n",
    "new_train = pd.np.concatenate([one_hot.todense(), train_no_sale_price[numeric_column_names]], axis=1)\n",
    "\n",
    "from sklearn.model_selection import train_test_split\n",
    "x_train, x_test, y_train, y_test = train_test_split(new_train, train_sale_price, test_size=0.3, random_state=4330)"
   ]
  },
  {
   "cell_type": "markdown",
   "metadata": {},
   "source": [
    "Започвам с най-добрия модел, който имам до момента, като опитвам малко повече стойности за регуляризация:"
   ]
  },
  {
   "cell_type": "code",
   "execution_count": 5,
   "metadata": {},
   "outputs": [
    {
     "name": "stdout",
     "output_type": "stream",
     "text": [
      "alpha:  0.1 \ttrain:  0.9432298317185679 \ttest:  0.9059958936362613\n",
      "alpha:  1 \ttrain:  0.9341947544847012 \ttest:  0.9186587324988607\n",
      "alpha:  10 \ttrain:  0.9145728136422795 \ttest:  0.9257768879730855\n",
      "alpha:  16 \ttrain:  0.9096253489993695 \ttest:  0.9263473343712055\n",
      "alpha:  18 \ttrain:  0.9083237836975386 \ttest:  0.9264065158513625\n",
      "alpha:  20 \ttrain:  0.9071364098202841 \ttest:  0.9264269122432969\n",
      "alpha:  100 \ttrain:  0.8856716730211226 \ttest:  0.9220580063440621\n"
     ]
    }
   ],
   "source": [
    "from sklearn.linear_model import Ridge \n",
    "\n",
    "for alpha in [0.1, 1, 10, 16, 18, 20, 100]:\n",
    "    all_data_lr = Ridge(alpha = alpha).fit(x_train, y_train)\n",
    "    print('alpha: ', alpha, '\\ttrain: ', all_data_lr.score(x_train, y_train), '\\ttest: ', all_data_lr.score(x_test, y_test))"
   ]
  },
  {
   "cell_type": "markdown",
   "metadata": {},
   "source": [
    "## Полиномиални фийчъри\n",
    "\n",
    "Проверявам ефекта на interaction_only/include_bias при полиномиални фийчъри."
   ]
  },
  {
   "cell_type": "code",
   "execution_count": 6,
   "metadata": {},
   "outputs": [
    {
     "name": "stdout",
     "output_type": "stream",
     "text": [
      "alpha:  100000000.0 \ttrain:  0.9747149724983218 \ttest:  0.7567972989032823\n",
      "alpha:  300000000.0 \ttrain:  0.9680795761823215 \ttest:  0.8073733653678512\n",
      "alpha:  1000000000.0 \ttrain:  0.9601410489997864 \ttest:  0.8364709418616634\n",
      "alpha:  3000000000.0 \ttrain:  0.9517442536928292 \ttest:  0.8299192160431703\n",
      "alpha:  10000000000.0 \ttrain:  0.9404467503868039 \ttest:  0.8289598461070519\n"
     ]
    }
   ],
   "source": [
    "from sklearn.preprocessing import PolynomialFeatures\n",
    "\n",
    "poly_features = PolynomialFeatures(degree=2, interaction_only=True, include_bias=True)\n",
    "poly_features.fit(x_train)\n",
    "\n",
    "poly_x_train = poly_features.transform(x_train)\n",
    "poly_x_test = poly_features.transform(x_test)\n",
    "\n",
    "for alpha in [1e8, 3e8, 1e9, 3e9, 1e10]:\n",
    "    all_data_lr = Ridge(alpha = alpha).fit(poly_x_train, y_train)\n",
    "    print('alpha: ', alpha, '\\ttrain: ', all_data_lr.score(poly_x_train, y_train), '\\ttest: ', all_data_lr.score(poly_x_test, y_test))"
   ]
  },
  {
   "cell_type": "code",
   "execution_count": 7,
   "metadata": {},
   "outputs": [
    {
     "name": "stdout",
     "output_type": "stream",
     "text": [
      "alpha:  100000000.0 \ttrain:  0.9747149724247605 \ttest:  0.7567972982398783\n",
      "alpha:  300000000.0 \ttrain:  0.968079576167618 \ttest:  0.8073733627349434\n",
      "alpha:  1000000000.0 \ttrain:  0.9601410489891997 \ttest:  0.8364709426948647\n",
      "alpha:  3000000000.0 \ttrain:  0.9517442536921715 \ttest:  0.8299192170532036\n",
      "alpha:  10000000000.0 \ttrain:  0.9404467503880019 \ttest:  0.8289598459686898\n"
     ]
    }
   ],
   "source": [
    "from sklearn.preprocessing import PolynomialFeatures\n",
    "\n",
    "poly_features = PolynomialFeatures(degree=2, interaction_only=True, include_bias=False)\n",
    "poly_features.fit(x_train)\n",
    "\n",
    "poly_x_train = poly_features.transform(x_train)\n",
    "poly_x_test = poly_features.transform(x_test)\n",
    "\n",
    "for alpha in [1e8, 3e8, 1e9, 3e9, 1e10]:\n",
    "    all_data_lr = Ridge(alpha = alpha).fit(poly_x_train, y_train)\n",
    "    print('alpha: ', alpha, '\\ttrain: ', all_data_lr.score(poly_x_train, y_train), '\\ttest: ', all_data_lr.score(poly_x_test, y_test))"
   ]
  },
  {
   "cell_type": "markdown",
   "metadata": {},
   "source": [
    "Това е някакво подобрение спрямо 0.960607069631/0.828562611736 за train/test, който имахме първоначално. Но не е нещо твърде интересно. И отново има твърде голям overfit."
   ]
  },
  {
   "cell_type": "markdown",
   "metadata": {},
   "source": [
    "## Различни регресори"
   ]
  },
  {
   "cell_type": "code",
   "execution_count": 8,
   "metadata": {},
   "outputs": [
    {
     "name": "stdout",
     "output_type": "stream",
     "text": [
      "eps:  0.7 \ttrain:  0.9127421771189032 \ttest:  0.7931223278243249\n",
      "eps:  1.0 \ttrain:  0.9340935433866963 \ttest:  0.9174329965526588\n",
      "eps:  2.0 \ttrain:  0.8525053286837376 \ttest:  0.8595144936896678\n",
      "eps:  3.0 \ttrain:  0.7613599990739384 \ttest:  0.7691570830547869\n",
      "eps:  3.5 \ttrain:  0.7052564168865257 \ttest:  0.7124880951199382\n",
      "eps:  10.0 \ttrain:  0.23833760943642024 \ttest:  0.23979389223260672\n"
     ]
    }
   ],
   "source": [
    "from sklearn.linear_model import Lars\n",
    "\n",
    "for eps in [7e-1, 1e0, 2e0, 3e0, 3.5e0, 1e1]:\n",
    "    all_data_lr = Lars(eps = eps).fit(x_train, y_train)\n",
    "    print('eps: ', eps, '\\ttrain: ', all_data_lr.score(x_train, y_train), '\\ttest: ', all_data_lr.score(x_test, y_test))"
   ]
  },
  {
   "cell_type": "code",
   "execution_count": 9,
   "metadata": {},
   "outputs": [
    {
     "name": "stdout",
     "output_type": "stream",
     "text": [
      "alpha:  8e-05 \ttrain:  0.9369635666255196 \ttest:  0.9302729859505364\n",
      "alpha:  0.0001 \ttrain:  0.9351550368697275 \ttest:  0.9326338031183586\n",
      "alpha:  0.0002 \ttrain:  0.9274941743326026 \ttest:  0.9359127803504758\n",
      "alpha:  0.0003 \ttrain:  0.9193033582624983 \ttest:  0.9356786508952853\n",
      "alpha:  0.001 \ttrain:  0.8740302905123147 \ttest:  0.9200975796667462\n",
      "alpha:  0.003 \ttrain:  0.8435364687563569 \ttest:  0.9052268035848794\n",
      "alpha:  0.0001 \ttrain:  0.9351550368697275 \ttest:  0.9326338031183586\n"
     ]
    }
   ],
   "source": [
    "from sklearn.linear_model import Lasso\n",
    "\n",
    "for alpha in [8e-5, 1e-4, 2e-4, 3e-4, 1e-3, 3e-3, 1e-4]:\n",
    "    all_data_lr = Lasso(alpha = alpha).fit(x_train, y_train)\n",
    "    print('alpha: ', alpha, '\\ttrain: ', all_data_lr.score(x_train, y_train), '\\ttest: ', all_data_lr.score(x_test, y_test))"
   ]
  },
  {
   "cell_type": "code",
   "execution_count": 10,
   "metadata": {},
   "outputs": [
    {
     "name": "stdout",
     "output_type": "stream",
     "text": [
      "alpha:  9e-05 \ttrain:  0.939742084427589 \ttest:  0.9240280637962036\n",
      "alpha:  0.0001 \ttrain:  0.9391544059196337 \ttest:  0.925325044557522\n",
      "alpha:  0.0002 \ttrain:  0.9334244119219754 \ttest:  0.9323793393132636\n",
      "alpha:  0.0003 \ttrain:  0.9284926225667961 \ttest:  0.9338958730833364\n",
      "alpha:  0.001 \ttrain:  0.8974675049249836 \ttest:  0.9290918302337547\n",
      "alpha:  0.003 \ttrain:  0.8625519341519489 \ttest:  0.9139608214111532\n"
     ]
    }
   ],
   "source": [
    "from sklearn.linear_model import ElasticNet\n",
    "\n",
    "for alpha in [9e-5, 1e-4, 2e-4, 3e-4, 1e-3, 3e-3]:\n",
    "    all_data_lr = ElasticNet(alpha = alpha).fit(x_train, y_train)\n",
    "    print('alpha: ', alpha, '\\ttrain: ', all_data_lr.score(x_train, y_train), '\\ttest: ', all_data_lr.score(x_test, y_test))"
   ]
  },
  {
   "cell_type": "code",
   "execution_count": 11,
   "metadata": {},
   "outputs": [
    {
     "name": "stdout",
     "output_type": "stream",
     "text": [
      "alpha:  7e-05 \ttrain:  0.9239645610406987 \ttest:  0.9383000670669658\n",
      "alpha:  0.0001 \ttrain:  0.9164646900409252 \ttest:  0.9372579915902592\n",
      "alpha:  0.0002 \ttrain:  0.8937159122879127 \ttest:  0.9251091112735874\n",
      "alpha:  0.0003 \ttrain:  0.8671485150983096 \ttest:  0.9081293296299905\n",
      "alpha:  0.001 \ttrain:  0.730005015040027 \ttest:  0.7922240198277191\n",
      "alpha:  0.003 \ttrain:  0.33798456888310197 \ttest:  0.3642688054119195\n"
     ]
    }
   ],
   "source": [
    "from sklearn.linear_model import LassoLars\n",
    "\n",
    "for alpha in [7e-5, 1e-4, 2e-4, 3e-4, 1e-3, 3e-3]:\n",
    "    all_data_lr = LassoLars(alpha = alpha).fit(x_train, y_train)\n",
    "    print('alpha: ', alpha, '\\ttrain: ', all_data_lr.score(x_train, y_train), '\\ttest: ', all_data_lr.score(x_test, y_test))"
   ]
  },
  {
   "cell_type": "markdown",
   "metadata": {},
   "source": [
    "Lasso дава някакво продобение."
   ]
  },
  {
   "cell_type": "markdown",
   "metadata": {},
   "source": [
    "## Feature engineering"
   ]
  },
  {
   "cell_type": "markdown",
   "metadata": {},
   "source": [
    "Данните в `MSSubClass` изглежда са от числов тип, но семантично са етикети. Дистрибуцията би трябвало да е някакво глупост..."
   ]
  },
  {
   "cell_type": "code",
   "execution_count": 12,
   "metadata": {},
   "outputs": [
    {
     "name": "stderr",
     "output_type": "stream",
     "text": [
      "c:\\python37\\lib\\site-packages\\scipy\\stats\\stats.py:1713: FutureWarning: Using a non-tuple sequence for multidimensional indexing is deprecated; use `arr[tuple(seq)]` instead of `arr[seq]`. In the future this will be interpreted as an array index, `arr[np.array(seq)]`, which will result either in an error or a different result.\n",
      "  return np.add.reduce(sorted[indexer] * weights, axis=axis) / sumval\n"
     ]
    },
    {
     "data": {
      "text/plain": [
       "<matplotlib.axes._subplots.AxesSubplot at 0x1eb33ce1160>"
      ]
     },
     "execution_count": 12,
     "metadata": {},
     "output_type": "execute_result"
    },
    {
     "data": {
      "image/png": "[encoded data removed]",
      "text/plain": [
       "<Figure size 432x288 with 1 Axes>"
      ]
     },
     "metadata": {
      "needs_background": "light"
     },
     "output_type": "display_data"
    }
   ],
   "source": [
    "sns.distplot(tuple(train_no_sale_price.MSSubClass))"
   ]
  },
  {
   "cell_type": "code",
   "execution_count": 13,
   "metadata": {},
   "outputs": [],
   "source": [
    "new_train = train_no_sale_price[numeric_column_names].copy()\n",
    "\n",
    "for subclass in [20, 30, 40, 45, 50, 60, 70, 75, 80, 85, 90, 120, 150, 160, 180, 190]:\n",
    "    new_train['MSSubClass' + str(subclass)] = (train.MSSubClass == subclass).astype(float)\n",
    "    \n",
    "new_train.drop('MSSubClass', axis=1);"
   ]
  },
  {
   "cell_type": "code",
   "execution_count": 14,
   "metadata": {},
   "outputs": [
    {
     "data": {
      "text/plain": [
       "<matplotlib.axes._subplots.AxesSubplot at 0x1eb33e27320>"
      ]
     },
     "execution_count": 14,
     "metadata": {},
     "output_type": "execute_result"
    },
    {
     "data": {
      "image/png": "[encoded data removed]",
      "text/plain": [
       "<Figure size 432x288 with 1 Axes>"
      ]
     },
     "metadata": {
      "needs_background": "light"
     },
     "output_type": "display_data"
    }
   ],
   "source": [
    "sns.distplot(new_train.MSSubClass20)"
   ]
  },
  {
   "cell_type": "code",
   "execution_count": 15,
   "metadata": {},
   "outputs": [],
   "source": [
    "new_train = pd.np.concatenate([one_hot.todense(), new_train], axis=1)\n",
    "\n",
    "x_train, x_test, y_train, y_test = train_test_split(new_train, train_sale_price, test_size=0.3, random_state=4330)"
   ]
  },
  {
   "cell_type": "code",
   "execution_count": 16,
   "metadata": {},
   "outputs": [
    {
     "name": "stdout",
     "output_type": "stream",
     "text": [
      "alpha:  8e-05 \ttrain:  0.9383374553463935 \ttest:  0.9313227662728075\n",
      "alpha:  0.0001 \ttrain:  0.9364632452619412 \ttest:  0.9341233165031287\n",
      "alpha:  0.0002 \ttrain:  0.9289023944462712 \ttest:  0.9372037527122234\n",
      "alpha:  0.0003 \ttrain:  0.9204827310422425 \ttest:  0.9366651398355403\n",
      "alpha:  0.001 \ttrain:  0.8746595448078333 \ttest:  0.9202861135769224\n",
      "alpha:  0.003 \ttrain:  0.8435364756965794 \ttest:  0.905226811993877\n",
      "alpha:  0.0001 \ttrain:  0.9364632452619412 \ttest:  0.9341233165031287\n"
     ]
    }
   ],
   "source": [
    "from sklearn.linear_model import Lasso\n",
    "\n",
    "for alpha in [8e-5, 1e-4, 2e-4, 3e-4, 1e-3, 3e-3, 1e-4]:\n",
    "    all_data_lr = Lasso(alpha = alpha).fit(x_train, y_train)\n",
    "    print('alpha: ', alpha, '\\ttrain: ', all_data_lr.score(x_train, y_train), '\\ttest: ', all_data_lr.score(x_test, y_test))"
   ]
  },
  {
   "cell_type": "code",
   "execution_count": 18,
   "metadata": {
    "scrolled": false
   },
   "outputs": [
    {
     "name": "stdout",
     "output_type": "stream",
     "text": [
      "alpha:  9e-05 \ttrain:  0.9196087656909153 \ttest:  0.938804094838236\n",
      "alpha:  0.0001 \ttrain:  0.9172506227888085 \ttest:  0.9380534876231266\n",
      "alpha:  0.0002 \ttrain:  0.8942452653724698 \ttest:  0.9255399729540554\n",
      "alpha:  0.0003 \ttrain:  0.8676411463108582 \ttest:  0.9084135232198125\n"
     ]
    }
   ],
   "source": [
    "from sklearn.linear_model import LassoLars\n",
    "\n",
    "for alpha in [9e-5, 1e-4, 2e-4, 3e-4]:\n",
    "    all_data_lr = LassoLars(alpha = alpha).fit(x_train, y_train)\n",
    "    print('alpha: ', alpha, '\\ttrain: ', all_data_lr.score(x_train, y_train), '\\ttest: ', all_data_lr.score(x_test, y_test))"
   ]
  },
  {
   "cell_type": "markdown",
   "metadata": {},
   "source": [
    "Това изглежда разумно:\n",
    "```\n",
    "alpha:  9e-05 \ttrain:  0.9196087656909153 \ttest:  0.938804094838236\n",
    "```"
   ]
  },
  {
   "cell_type": "markdown",
   "metadata": {},
   "source": [
    "## Допълнително\n",
    "\n",
    "Позанимавах се да направя всички наредени данни на числа и да ги прекарам през `RandomForestRegressor` (без `OneHotEncoder`). Резултатите не бяха впечатляващи. За съжаление ми умря зарядното на лаптопа и няма да мога да покажа резултати. Пък при положение че не са по-добри - май няма и много смисъл."
   ]
  },
  {
   "cell_type": "code",
   "execution_count": null,
   "metadata": {},
   "outputs": [],
   "source": []
  }
 ],
 "metadata": {
  "kernelspec": {
   "display_name": "Python 3",
   "language": "python",
   "name": "python3"
  },
  "language_info": {
   "codemirror_mode": {
    "name": "ipython",
    "version": 3
   },
   "file_extension": ".py",
   "mimetype": "text/x-python",
   "name": "python",
   "nbconvert_exporter": "python",
   "pygments_lexer": "ipython3",
   "version": "3.7.1"
  }
 },
 "nbformat": 4,
 "nbformat_minor": 2
}
